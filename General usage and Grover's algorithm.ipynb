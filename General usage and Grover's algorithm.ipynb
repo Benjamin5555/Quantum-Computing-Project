{
  "nbformat": 4,
  "nbformat_minor": 0,
  "metadata": {
    "colab": {
      "name": "Grovers Algorithm writeup.ipynb",
      "provenance": [],
      "collapsed_sections": [],
      "include_colab_link": true
    },
    "kernelspec": {
      "name": "python3",
      "display_name": "Python 3"
    }
  },
  "cells": [
    {
      "cell_type": "markdown",
      "metadata": {
        "id": "view-in-github",
        "colab_type": "text"
      },
      "source": [
        "<a href=\"https://colab.research.google.com/github/Benjamin5555/Quantum-Computing-Project/blob/master/General%20usage%20and%20Grover's%20algorithm.ipynb\" target=\"_parent\"><img src=\"https://colab.research.google.com/assets/colab-badge.svg\" alt=\"Open In Colab\"/></a>"
      ]
    },
    {
      "cell_type": "code",
      "metadata": {
        "id": "XVfnFkPzwT5d",
        "colab_type": "code",
        "colab": {}
      },
      "source": [
        "%%capture\n",
        "%cd ~\n",
        "!git clone https://github.com/Benjamin5555/Quantum-Computing-Project.git\n",
        "%cd Quantum-Computing-Project\n",
        "!python3 setup.py install\n",
        "\n",
        "import sys\n",
        "sys.path.append(\"/root/Quantum-Computing-Project/circuit_model_library\")\n"
      ],
      "execution_count": 0,
      "outputs": []
    },
    {
      "cell_type": "code",
      "metadata": {
        "id": "ugiNLEaVg_XE",
        "colab_type": "code",
        "colab": {}
      },
      "source": [
        "from circuit_model_library import circuit_model, matrices\n",
        "from scipy.sparse import csr_matrix\n",
        "import numpy as np\n",
        "import matplotlib.pyplot  as plt"
      ],
      "execution_count": 0,
      "outputs": []
    },
    {
      "cell_type": "markdown",
      "metadata": {
        "id": "4F0wA5ZChKlT",
        "colab_type": "text"
      },
      "source": [
        "# Defining gates that will be required for component parts"
      ]
    },
    {
      "cell_type": "markdown",
      "metadata": {
        "id": "lnKCH4S2j_Xd",
        "colab_type": "text"
      },
      "source": [
        "We must define a collection of gates and linked characters used to define them in a circuit string representation"
      ]
    },
    {
      "cell_type": "code",
      "metadata": {
        "id": "TMnxWvzshK5-",
        "colab_type": "code",
        "colab": {}
      },
      "source": [
        "    #Hadamard Gate\n",
        "    H = circuit_model.Gate(2**(-1/2) * np.array([[1,  1],\\\n",
        "                                                 [1, -1]]),\"H\")  \n",
        "    \n",
        "    #Pauli X Gate                                               \n",
        "    X = circuit_model.Gate([[0, 1],\\\n",
        "                            [1, 0]],\"X\")                        \n",
        "    \n",
        "    #Identity Gate                                      \n",
        "    I = circuit_model.Gate([[1, 0],\\\n",
        "                            [0, 1]],\"I\")\n",
        "    \n",
        "        \n",
        "    #Pauli Z\n",
        "    z = circuit_model.Gate(([[1,  0],\\\n",
        "                             [0, -1]]))\n",
        "    \n",
        "    \n",
        "    c = circuit_model.Gate([[1,0],\\\n",
        "                            [0,1]],\"c\")\n",
        "\n",
        "    gates_dictionary ={\"I\":I,\\\n",
        "                       \"H\":H,\\\n",
        "                       \"X\":X,\\\n",
        "                       \"z\":z,\\\n",
        "                       \"c\":c}"
      ],
      "execution_count": 0,
      "outputs": []
    },
    {
      "cell_type": "markdown",
      "metadata": {
        "id": "DSS-cY-QhLTx",
        "colab_type": "text"
      },
      "source": [
        "We shall code Grovers algorithm starting with 3 qubits and the grovers circuit given in fig. \\ref{Grover1}"
      ]
    },
    {
      "cell_type": "markdown",
      "metadata": {
        "id": "8Kikqk4sWvfq",
        "colab_type": "text"
      },
      "source": [
        "We start by instansiating a register for a 3 qubit system starting in the $\\ket{000}$ state representing the matrix $$\\ket{000} =  \\begin{pmatrix}\n",
        " 1 \\\\0\\\\ 0\\\\ 0 \\\\ 0\\\\0\\\\0\\\\0\\\\\n",
        "\\end{pmatrix}$$"
      ]
    },
    {
      "cell_type": "code",
      "metadata": {
        "id": "HJlhpkEdWvKa",
        "colab_type": "code",
        "colab": {}
      },
      "source": [
        "reg_3_qubit = circuit_model.QuantumRegister([0],(8,1))"
      ],
      "execution_count": 0,
      "outputs": []
    },
    {
      "cell_type": "markdown",
      "metadata": {
        "id": "P4geLkyhdlZM",
        "colab_type": "text"
      },
      "source": [
        "\n",
        "We by hand convert the circuit into a list of strings with the most significant qubit being the topmost qubit and the first string in the list of strings:\n",
        "\n"
      ]
    },
    {
      "cell_type": "code",
      "metadata": {
        "id": "49-KA8JJGBga",
        "colab_type": "code",
        "colab": {}
      },
      "source": [
        "grov_3_qubit_string = [\"HcIHXcXH\",\\\n",
        "                       \"HIcHXcXH\",\\\n",
        "                       \"HzzHXzXH\"]"
      ],
      "execution_count": 0,
      "outputs": []
    },
    {
      "cell_type": "markdown",
      "metadata": {
        "id": "o-QVgoqIeb5L",
        "colab_type": "text"
      },
      "source": [
        "We instansiate our circuit object using this representation and the dictionary of linkings between gate symbol and gate object "
      ]
    },
    {
      "cell_type": "code",
      "metadata": {
        "id": "79cyhhYPdbRX",
        "colab_type": "code",
        "colab": {}
      },
      "source": [
        "Grov_3_bit = circuit_model.QuantumCircuit(grov_3_qubit_string,gates_dictionary)"
      ],
      "execution_count": 0,
      "outputs": []
    },
    {
      "cell_type": "markdown",
      "metadata": {
        "id": "KBzRW-llW1Yn",
        "colab_type": "text"
      },
      "source": [
        "We next apply the circuit to our register we generated earlier and plot the output values vs their probabilities"
      ]
    },
    {
      "cell_type": "code",
      "metadata": {
        "id": "l5HfHmrNWu2j",
        "colab_type": "code",
        "outputId": "1f192b02-4103-4e6c-9ecd-92d128743bea",
        "colab": {
          "base_uri": "https://localhost:8080/",
          "height": 366
        }
      },
      "source": [
        "out_reg = Grov_3_bit.apply(reg_3_qubit)\n",
        "\n",
        "fig = plt.figure()\n",
        "ax = fig.add_axes([0,0,1,1])\n",
        "ax.bar(out_reg.measure()[0],out_reg.measure()[1])\n",
        "ax.set_ylabel('Probability')\n",
        "ax.set_xlabel('State value')\n",
        "ax.set_title('Probability of states after passing through Grovers Algorithm implementation')\n",
        "plt.show()"
      ],
      "execution_count": 7,
      "outputs": [
        {
          "output_type": "display_data",
          "data": {
            "image/png": "[encoded data removed]",
            "text/plain": [
              "<Figure size 432x288 with 1 Axes>"
            ]
          },
          "metadata": {
            "tags": []
          }
        }
      ]
    },
    {
      "cell_type": "code",
      "metadata": {
        "id": "OzfVq56akXdA",
        "colab_type": "code",
        "colab": {}
      },
      "source": [
        ""
      ],
      "execution_count": 0,
      "outputs": []
    },
    {
      "cell_type": "markdown",
      "metadata": {
        "id": "oUD3jmAXg_Ql",
        "colab_type": "text"
      },
      "source": [
        "**Using More qubits**\n",
        "A more complex example involves the usage of Grovers Algorithm for higher qubit states, we define a function that will create a Grovers function for an arbitary circuit as shown in figure https://qcsimulator.github.io/?example=Grover%27s%20Algorithm  (Double click on a gate at the top to view what they are) but with different states picked out\n"
      ]
    },
    {
      "cell_type": "code",
      "metadata": {
        "id": "xEAAQjfviPib",
        "colab_type": "code",
        "colab": {}
      },
      "source": [
        "def grovers_algorithm_from_strings(grov_string):\n",
        "    \"\"\"Example of how the produced solution could be used to generate a function\n",
        "    for Grovers from strings\n",
        "    \"\"\"\n",
        "    reg = circuit_model.QuantumRegister([1],(2**len(grov_string),1))\n",
        "    Grov_circuit = circuit_model.QuantumCircuit(grov_string,gates_dictionary)\n",
        "    out_reg = Grov_circuit.apply(reg)\n",
        "\n",
        "    fig = plt.figure()\n",
        "    ax = fig.add_axes([0,0,1,1])\n",
        "    ax.bar(out_reg.measure()[0],out_reg.measure()[1])\n",
        "\n",
        "    ax.set_ylabel('Probability')\n",
        "    ax.set_xlabel('State value')\n",
        "    ax.set_title('Probability of states after passing through Grovers Algorithm implementation')\n",
        "    plt.show()"
      ],
      "execution_count": 0,
      "outputs": []
    },
    {
      "cell_type": "markdown",
      "metadata": {
        "id": "Xg8QX2h-iO00",
        "colab_type": "text"
      },
      "source": [
        "This works for a range of qubits \n",
        "5 qubits with 1 ancilla (work) qubit with the 11101(0) state picked out "
      ]
    },
    {
      "cell_type": "code",
      "metadata": {
        "id": "NLh2n4hYjq-E",
        "colab_type": "code",
        "outputId": "660c895c-4e86-405c-e3ee-b7643a4e4b24",
        "colab": {
          "base_uri": "https://localhost:8080/",
          "height": 366
        }
      },
      "source": [
        "grovers_algorithm_from_strings([\\\n",
        "                        \"HIcIHXcXHII\",\\\n",
        "                        \"HIcIHXcXHII\",\\\n",
        "                        \"HIcIHXcXHII\",\\\n",
        "                        \"HXcXHXcXHII\",\\\n",
        "                        \"HIcIHXzXHII\",\\\n",
        "                        \"HIXIIIIIIHX\"])"
      ],
      "execution_count": 9,
      "outputs": [
        {
          "output_type": "display_data",
          "data": {
            "image/png": "[encoded data removed]",
            "text/plain": [
              "<Figure size 432x288 with 1 Axes>"
            ]
          },
          "metadata": {
            "tags": []
          }
        }
      ]
    },
    {
      "cell_type": "markdown",
      "metadata": {
        "id": "s4e9wYGoiwFS",
        "colab_type": "text"
      },
      "source": [
        "This works for a range of qubits \n",
        "6 qubits with 1 ancilla (work) qubit again marking the 1111110 state."
      ]
    },
    {
      "cell_type": "code",
      "metadata": {
        "id": "N32xwPd_ikDc",
        "colab_type": "code",
        "outputId": "897d8fdc-2e43-45b3-a236-339be4901d9e",
        "colab": {
          "base_uri": "https://localhost:8080/",
          "height": 366
        }
      },
      "source": [
        "grovers_algorithm_from_strings([\\\n",
        "                        \"HIcIHXcXHII\",\\\n",
        "                        \"HIcIHXcXHII\",\\\n",
        "                        \"HIcIHXcXHII\",\\\n",
        "                        \"HIcIHXcXHII\",\\\n",
        "                        \"HIcIHXcXHII\",\\\n",
        "                        \"HIcIHXzXHII\",\\\n",
        "                        \"HIXIIIIIIHX\"])"
      ],
      "execution_count": 10,
      "outputs": [
        {
          "output_type": "display_data",
          "data": {
            "image/png": "[encoded data removed]",
            "text/plain": [
              "<Figure size 432x288 with 1 Axes>"
            ]
          },
          "metadata": {
            "tags": []
          }
        }
      ]
    },
    {
      "cell_type": "markdown",
      "metadata": {
        "id": "xDw1c-smi0_a",
        "colab_type": "text"
      },
      "source": [
        "This works for a range of qubits \n",
        "7 qubits with 1 ancilla (work) qubit "
      ]
    },
    {
      "cell_type": "code",
      "metadata": {
        "id": "nXZlv9b2i1b0",
        "colab_type": "code",
        "outputId": "7a7d3a49-999b-4794-da5d-54c16540b7f1",
        "colab": {
          "base_uri": "https://localhost:8080/",
          "height": 366
        }
      },
      "source": [
        "grovers_algorithm_from_strings([\\\n",
        "                        \"HIcIHXcXHII\",\\\n",
        "                        \"HIcIHXcXHII\",\\\n",
        "                        \"HIcIHXcXHII\",\\\n",
        "                        \"HIcIHXcXHII\",\\\n",
        "                        \"HIcIHXcXHII\",\\\n",
        "                        \"HIcIHXcXHII\",\\\n",
        "                        \"HIcIHXzXHII\",\\\n",
        "                        \"HIXIIIIIIHX\"])"
      ],
      "execution_count": 11,
      "outputs": [
        {
          "output_type": "display_data",
          "data": {
            "image/png": "[encoded data removed]",
            "text/plain": [
              "<Figure size 432x288 with 1 Axes>"
            ]
          },
          "metadata": {
            "tags": []
          }
        }
      ]
    },
    {
      "cell_type": "markdown",
      "metadata": {
        "id": "N8qQJxu8-Jyg",
        "colab_type": "text"
      },
      "source": [
        "This works for a range of qubits 8 qubits with 1 ancilla (work) qubit, we expect this to produce the 111111110 state  "
      ]
    },
    {
      "cell_type": "code",
      "metadata": {
        "id": "w8rwuLK6jDM_",
        "colab_type": "code",
        "outputId": "021043a9-ecb8-446c-9eae-1081bd61b4bc",
        "colab": {
          "base_uri": "https://localhost:8080/",
          "height": 366
        }
      },
      "source": [
        "grovers_algorithm_from_strings([\\\n",
        "                        \"HIcIHXcXHII\",\\\n",
        "                        \"HIcIHXcXHII\",\\\n",
        "                        \"HIcIHXcXHII\",\\\n",
        "                        \"HIcIHXcXHII\",\\\n",
        "                        \"HIcIHXcXHII\",\\\n",
        "                        \"HIcIHXcXHII\",\\\n",
        "                        \"HIcIHXcXHII\",\\\n",
        "                        \"HIcIHXzXHII\",\\\n",
        "                        \"HIXIIIIIIHX\"])"
      ],
      "execution_count": 12,
      "outputs": [
        {
          "output_type": "display_data",
          "data": {
            "image/png": "[encoded data removed]",
            "text/plain": [
              "<Figure size 432x288 with 1 Axes>"
            ]
          },
          "metadata": {
            "tags": []
          }
        }
      ]
    },
    {
      "cell_type": "markdown",
      "metadata": {
        "id": "yjk_zJrq3kL8",
        "colab_type": "text"
      },
      "source": [
        "For a total 10 qubits we have an issue that the state being highlighted no longer has greatest probability, this may be due to an issue with sizes of matrices at this point e.g. we have a 2048* 2048 matrix representing the circuit which for a dense matrice will potentially contain of the order 1 million elements."
      ]
    },
    {
      "cell_type": "code",
      "metadata": {
        "id": "WoRV_lK92zWl",
        "colab_type": "code",
        "outputId": "1b80c63f-9e82-4194-d739-474566498836",
        "colab": {
          "base_uri": "https://localhost:8080/",
          "height": 366
        }
      },
      "source": [
        "grovers_algorithm_from_strings([\\\n",
        "                        \"HIcIHXcXHII\",\\\n",
        "                        \"HIcIHXcXHII\",\\\n",
        "                        \"HIcIHXcXHII\",\\\n",
        "                        \"HIcIHXcXHII\",\\\n",
        "                        \"HIcIHXcXHII\",\\\n",
        "                        \"HIcIHXcXHII\",\\\n",
        "                        \"HIcIHXcXHII\",\\\n",
        "                        \"HIcIHXcXHII\",\\\n",
        "                        \"HIcIHXzXHII\",\\\n",
        "                        \"HIXIIIIIIHX\"])"
      ],
      "execution_count": 13,
      "outputs": [
        {
          "output_type": "display_data",
          "data": {
            "image/png": "[encoded data removed]",
            "text/plain": [
              "<Figure size 432x288 with 1 Axes>"
            ]
          },
          "metadata": {
            "tags": []
          }
        }
      ]
    },
    {
      "cell_type": "code",
      "metadata": {
        "id": "Kccjkn5723tD",
        "colab_type": "code",
        "colab": {}
      },
      "source": [
        ""
      ],
      "execution_count": 0,
      "outputs": []
    }
  ]
}