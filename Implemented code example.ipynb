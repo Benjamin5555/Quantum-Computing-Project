{
  "nbformat": 4,
  "nbformat_minor": 0,
  "metadata": {
    "colab": {
      "name": "Untitled1.ipynb",
      "provenance": [],
      "collapsed_sections": [],
      "authorship_tag": "ABX9TyNhRc40ZLm/Lh45s62FrJAV",
      "include_colab_link": true
    },
    "kernelspec": {
      "name": "python3",
      "display_name": "Python 3"
    }
  },
  "cells": [
    {
      "cell_type": "markdown",
      "metadata": {
        "id": "view-in-github",
        "colab_type": "text"
      },
      "source": [
        "<a href=\"https://colab.research.google.com/github/Benjamin5555/Quantum-Computing-Project/blob/master/Implemented%20code%20example.ipynb\" target=\"_parent\"><img src=\"https://colab.research.google.com/assets/colab-badge.svg\" alt=\"Open In Colab\"/></a>"
      ]
    },
    {
      "cell_type": "code",
      "metadata": {
        "id": "XVfnFkPzwT5d",
        "colab_type": "code",
        "colab": {}
      },
      "source": [
        "%%capture\n",
        "%cd ~\n",
        "!git clone https://github.com/Benjamin5555/Quantum-Computing-Project.git\n",
        "%cd Quantum-Computing-Project\n",
        "!python3 setup.py install\n",
        "\n",
        "import sys\n",
        "sys.path.append(\"/root/Quantum-Computing-Project/\")\n"
      ],
      "execution_count": 0,
      "outputs": []
    },
    {
      "cell_type": "markdown",
      "metadata": {
        "id": "aA93DdM_5T2F",
        "colab_type": "text"
      },
      "source": [
        ""
      ]
    },
    {
      "cell_type": "code",
      "metadata": {
        "id": "lnWL06mfwVhG",
        "colab_type": "code",
        "colab": {}
      },
      "source": [
        "from circuit_model_library import circuit_model, matrices\n",
        "import numpy as np"
      ],
      "execution_count": 0,
      "outputs": []
    },
    {
      "cell_type": "markdown",
      "metadata": {
        "id": "U1hkLCAm1V2g",
        "colab_type": "text"
      },
      "source": [
        "Define a selection of gates and place ito a dictionary"
      ]
    },
    {
      "cell_type": "code",
      "metadata": {
        "id": "7hXKTnG-xZ5c",
        "colab_type": "code",
        "colab": {}
      },
      "source": [
        "#Hadamard Gate\n",
        "H = circuit_model.Gate(2**(-1/2) * np.array([[1,  1],\\\n",
        "                                             [1, -1]]))  \n",
        "\n",
        "#Pauli X Gate (Not gate)                                              \n",
        "X = circuit_model.Gate([[0, 1],\\\n",
        "                        [1, 0]])                        \n",
        "\n",
        "#Identity Gate                                      \n",
        "I = circuit_model.Gate([[1, 0],\\\n",
        "                        [0, 1]])\n",
        "\n",
        "\n",
        "\n",
        "gates_dictionary ={\"I\":I,\\\n",
        "                   \"H\":H,\\\n",
        "                   \"X\":X}"
      ],
      "execution_count": 0,
      "outputs": []
    },
    {
      "cell_type": "markdown",
      "metadata": {
        "id": "C1poNO2N1kb4",
        "colab_type": "text"
      },
      "source": [
        "Define a string to superimpose a single qubit in a two qubit register "
      ]
    },
    {
      "cell_type": "code",
      "metadata": {
        "id": "X2Z1iNtX2O0Q",
        "colab_type": "code",
        "colab": {}
      },
      "source": [
        "circuit_string_list = [\"IH\",\"II\"]\n",
        "\n",
        "#Currently system only works with 'square' circuits "
      ],
      "execution_count": 0,
      "outputs": []
    },
    {
      "cell_type": "markdown",
      "metadata": {
        "id": "92Ir0gzy2hAt",
        "colab_type": "text"
      },
      "source": [
        "Define a register to apply the circuit to |01>"
      ]
    },
    {
      "cell_type": "code",
      "metadata": {
        "id": "X52doUIF2odD",
        "colab_type": "code",
        "colab": {
          "base_uri": "https://localhost:8080/",
          "height": 85
        },
        "outputId": "438b53db-722e-4c5d-a004-74357516124d"
      },
      "source": [
        "register_01 = circuit_model.QuantumRegister([1],shape = (4,1)) \n",
        "print(register)\n",
        "\n",
        "#Discovered an issue in that sending a zero zero i.e. empty list of bit positions\n",
        "#causes an error e.g. \n",
        "#register = circuit_model.QuantumRegister([],shape = (2,1)) "
      ],
      "execution_count": 54,
      "outputs": [
        {
          "output_type": "stream",
          "text": [
            "[[0.]\n",
            " [1.]\n",
            " [0.]\n",
            " [0.]]\n"
          ],
          "name": "stdout"
        }
      ]
    },
    {
      "cell_type": "markdown",
      "metadata": {
        "id": "Fy2ZocH93qfF",
        "colab_type": "text"
      },
      "source": [
        "Create single Hadamard circuit 'object'\n"
      ]
    },
    {
      "cell_type": "code",
      "metadata": {
        "id": "accBpkNF30TN",
        "colab_type": "code",
        "colab": {}
      },
      "source": [
        "circuit_single_Hadamard = circuit_model.QuantumCircuit(\\\n",
        "                                                        circuit_string_list,\\\n",
        "                                                        gates_dictionary)\n"
      ],
      "execution_count": 0,
      "outputs": []
    },
    {
      "cell_type": "markdown",
      "metadata": {
        "id": "-JBMC-yf4Jxm",
        "colab_type": "text"
      },
      "source": [
        "Can then apply the circuit to a register"
      ]
    },
    {
      "cell_type": "code",
      "metadata": {
        "id": "aOTI5ezM4N2w",
        "colab_type": "code",
        "colab": {}
      },
      "source": [
        "out_register = circuit_single_Hadamard.apply(register_01)\n"
      ],
      "execution_count": 0,
      "outputs": []
    },
    {
      "cell_type": "markdown",
      "metadata": {
        "id": "OYRH312h4iK2",
        "colab_type": "text"
      },
      "source": [
        "We expect applying the Hadamard gate to the 'top' qubit in state $|1>$ to produce a superposition of states i.e. $A|0>+B|1>$ with equal probability "
      ]
    },
    {
      "cell_type": "code",
      "metadata": {
        "id": "rbWXxI6m50J-",
        "colab_type": "code",
        "colab": {
          "base_uri": "https://localhost:8080/",
          "height": 85
        },
        "outputId": "63bfa273-46b4-4b5c-8600-8cddacf853c5"
      },
      "source": [
        "print(out_register)"
      ],
      "execution_count": 58,
      "outputs": [
        {
          "output_type": "stream",
          "text": [
            "[[0.        ]\n",
            " [0.70710678]\n",
            " [0.        ]\n",
            " [0.70710678]]\n"
          ],
          "name": "stdout"
        }
      ]
    },
    {
      "cell_type": "markdown",
      "metadata": {
        "id": "GbT6wPm159Fx",
        "colab_type": "text"
      },
      "source": [
        "Which we can then make a measurment on to get the states..."
      ]
    },
    {
      "cell_type": "code",
      "metadata": {
        "id": "_Y7EWyQaHTr9",
        "colab_type": "code",
        "colab": {
          "base_uri": "https://localhost:8080/",
          "height": 51
        },
        "outputId": "fe45f8a0-49c9-4c6c-bd39-4e52fa631e78"
      },
      "source": [
        "print(out_register.measure()[0])\n"
      ],
      "execution_count": 63,
      "outputs": [
        {
          "output_type": "stream",
          "text": [
            "[1 3]\n",
            "[0.5 0.5]\n"
          ],
          "name": "stdout"
        }
      ]
    },
    {
      "cell_type": "markdown",
      "metadata": {
        "id": "8hZrwAXFHoTJ",
        "colab_type": "text"
      },
      "source": [
        "And their probabilites"
      ]
    },
    {
      "cell_type": "code",
      "metadata": {
        "id": "ZI-tAY2YHWPH",
        "colab_type": "code",
        "colab": {
          "base_uri": "https://localhost:8080/",
          "height": 34
        },
        "outputId": "b13654a6-f0f7-423b-cbb8-9fb26136415a"
      },
      "source": [
        "print(out_register.measure()[1])"
      ],
      "execution_count": 64,
      "outputs": [
        {
          "output_type": "stream",
          "text": [
            "[0.5 0.5]\n"
          ],
          "name": "stdout"
        }
      ]
    },
    {
      "cell_type": "code",
      "metadata": {
        "id": "thtx39qLHrWb",
        "colab_type": "code",
        "colab": {}
      },
      "source": [
        ""
      ],
      "execution_count": 0,
      "outputs": []
    }
  ]
}